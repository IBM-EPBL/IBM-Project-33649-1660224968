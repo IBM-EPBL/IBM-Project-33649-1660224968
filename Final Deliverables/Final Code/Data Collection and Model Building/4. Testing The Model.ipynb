{
  "cells": [
    {
      "cell_type": "markdown",
      "metadata": {},
      "source": [
        "# Testing The Model"
      ]
    },
    {
      "cell_type": "markdown",
      "metadata": {},
      "source": [
        "### Making necessary imports"
      ]
    },
    {
      "cell_type": "code",
      "execution_count": 8,
      "metadata": {
        "id": "h_P3r2l3Db_k"
      },
      "outputs": [],
      "source": [
        "from tensorflow.keras.preprocessing import image\n",
        "import numpy as np\n",
        "from tensorflow.keras.models import load_model\n",
        "import cv2"
      ]
    },
    {
      "cell_type": "markdown",
      "metadata": {},
      "source": [
        "### Load the Trained Model"
      ]
    },
    {
      "cell_type": "code",
      "execution_count": 9,
      "metadata": {
        "id": "fo8yXOu9DjvL"
      },
      "outputs": [],
      "source": [
        "model = load_model('/content/drive/MyDrive/trained_model.h5')"
      ]
    },
    {
      "cell_type": "code",
      "execution_count": 10,
      "metadata": {
        "id": "QRDGXYgLDtMk"
      },
      "outputs": [],
      "source": [
        "def get_prediction(num):\n",
        "  out = {0:'A', 1:'B', 2:'C', 3:'D', 4:'E', 5:'F', 6:'G', 7:'H', 8:'I', 9:'J', 10:'K',\n",
        "         11:'L', 12:'M', 13:'N', 14:'O', 15:'P', 16:'Q', 17:'R', 18:'S', 19:'T', 20:'U', 21:'V',\n",
        "         22:'W', 23:'X', 24:'Y', 25:'Z'}\n",
        "  return out[num]"
      ]
    },
    {
      "cell_type": "markdown",
      "metadata": {},
      "source": [
        "### Predicting Test Images"
      ]
    },
    {
      "cell_type": "markdown",
      "metadata": {},
      "source": [
        "#### Indian Sign Language(ISL) Alphabet - 'D'"
      ]
    },
    {
      "cell_type": "code",
      "execution_count": 26,
      "metadata": {
        "colab": {
          "base_uri": "https://localhost:8080/",
          "height": 145
        },
        "id": "OyJi2WQLDvRb",
        "outputId": "b3a7d215-4655-46ee-9586-a38094be5d38"
      },
      "outputs": [
        {
          "data": {
            "image/png": "[encoded data removed]",
            "text/plain": [
              "<PIL.Image.Image image mode=L size=128x128 at 0x7F7152826E10>"
            ]
          },
          "execution_count": 26,
          "metadata": {},
          "output_type": "execute_result"
        }
      ],
      "source": [
        "img = image.load_img('/content/Dataset/test_set/D/1027.jpg', target_size=(128,128), color_mode='grayscale')\n",
        "img"
      ]
    },
    {
      "cell_type": "code",
      "execution_count": 27,
      "metadata": {
        "colab": {
          "base_uri": "https://localhost:8080/",
          "height": 53
        },
        "id": "GNprmvdGDyau",
        "outputId": "c44cbb3a-466e-4696-a977-7813895256c8"
      },
      "outputs": [
        {
          "name": "stdout",
          "output_type": "stream",
          "text": [
            "1/1 [==============================] - 0s 57ms/step\n"
          ]
        },
        {
          "data": {
            "application/vnd.google.colaboratory.intrinsic+json": {
              "type": "string"
            },
            "text/plain": [
              "'D'"
            ]
          },
          "execution_count": 27,
          "metadata": {},
          "output_type": "execute_result"
        }
      ],
      "source": [
        "x = image.img_to_array(img)\n",
        "x = np.expand_dims(x, axis=0)\n",
        "prediction = np.argmax(model.predict(x))\n",
        "get_prediction(prediction)"
      ]
    },
    {
      "cell_type": "markdown",
      "metadata": {},
      "source": [
        "#### Indian Sign Language(ISL) Alphabet - 'F'"
      ]
    },
    {
      "cell_type": "code",
      "execution_count": 28,
      "metadata": {
        "colab": {
          "base_uri": "https://localhost:8080/",
          "height": 145
        },
        "id": "7TbTev8FD0d0",
        "outputId": "60c9cb2e-f4d8-4101-c505-69e1e976a179"
      },
      "outputs": [
        {
          "data": {
            "image/png": "[encoded data removed]",
            "text/plain": [
              "<PIL.Image.Image image mode=L size=128x128 at 0x7F714D31D610>"
            ]
          },
          "execution_count": 28,
          "metadata": {},
          "output_type": "execute_result"
        }
      ],
      "source": [
        "img = image.load_img('/content/Dataset/test_set/F/1022.jpg', target_size=(128,128), color_mode='grayscale')\n",
        "img"
      ]
    },
    {
      "cell_type": "code",
      "execution_count": 29,
      "metadata": {
        "colab": {
          "base_uri": "https://localhost:8080/",
          "height": 53
        },
        "id": "Bc6HO_lCD8lv",
        "outputId": "7c6a28fd-bc1a-4f17-b2d4-1233a92baf48"
      },
      "outputs": [
        {
          "name": "stdout",
          "output_type": "stream",
          "text": [
            "1/1 [==============================] - 0s 49ms/step\n"
          ]
        },
        {
          "data": {
            "application/vnd.google.colaboratory.intrinsic+json": {
              "type": "string"
            },
            "text/plain": [
              "'F'"
            ]
          },
          "execution_count": 29,
          "metadata": {},
          "output_type": "execute_result"
        }
      ],
      "source": [
        "x = image.img_to_array(img)\n",
        "x = np.expand_dims(x, axis=0)\n",
        "prediction = np.argmax(model.predict(x))\n",
        "get_prediction(prediction)"
      ]
    },
    {
      "cell_type": "markdown",
      "metadata": {},
      "source": [
        "#### Indian Sign Language(ISL) Alphabet - 'S'"
      ]
    },
    {
      "cell_type": "code",
      "execution_count": 30,
      "metadata": {
        "colab": {
          "base_uri": "https://localhost:8080/",
          "height": 145
        },
        "id": "dvQZWUCCD-aT",
        "outputId": "7360a1be-b5c5-41cf-9203-3b6626f9ee37"
      },
      "outputs": [
        {
          "data": {
            "image/png": "[encoded data removed]",
            "text/plain": [
              "<PIL.Image.Image image mode=L size=128x128 at 0x7F71528261D0>"
            ]
          },
          "execution_count": 30,
          "metadata": {},
          "output_type": "execute_result"
        }
      ],
      "source": [
        "img = image.load_img('/content/Dataset/test_set/S/108.jpg', target_size=(128,128), color_mode='grayscale')\n",
        "img"
      ]
    },
    {
      "cell_type": "code",
      "execution_count": 31,
      "metadata": {
        "colab": {
          "base_uri": "https://localhost:8080/",
          "height": 53
        },
        "id": "4jagiYlEECXJ",
        "outputId": "1e034931-373c-41af-a373-da5553957c06"
      },
      "outputs": [
        {
          "name": "stdout",
          "output_type": "stream",
          "text": [
            "1/1 [==============================] - 0s 48ms/step\n"
          ]
        },
        {
          "data": {
            "application/vnd.google.colaboratory.intrinsic+json": {
              "type": "string"
            },
            "text/plain": [
              "'S'"
            ]
          },
          "execution_count": 31,
          "metadata": {},
          "output_type": "execute_result"
        }
      ],
      "source": [
        "x = image.img_to_array(img)\n",
        "x = np.expand_dims(x, axis=0)\n",
        "prediction = np.argmax(model.predict(x))\n",
        "get_prediction(prediction)"
      ]
    },
    {
      "cell_type": "markdown",
      "metadata": {},
      "source": [
        "#### Indian Sign Language(ISL) Alphabet - 'R'"
      ]
    },
    {
      "cell_type": "code",
      "execution_count": 32,
      "metadata": {
        "colab": {
          "base_uri": "https://localhost:8080/",
          "height": 145
        },
        "id": "RxDwCHhKEC3l",
        "outputId": "ce476ff3-8b86-4d33-a196-345dc0ed58d0"
      },
      "outputs": [
        {
          "data": {
            "image/png": "[encoded data removed]",
            "text/plain": [
              "<PIL.Image.Image image mode=L size=128x128 at 0x7F714D2C9590>"
            ]
          },
          "execution_count": 32,
          "metadata": {},
          "output_type": "execute_result"
        }
      ],
      "source": [
        "img = image.load_img('/content/Dataset/test_set/R/1021.jpg', target_size=(128,128), color_mode='grayscale')\n",
        "img"
      ]
    },
    {
      "cell_type": "code",
      "execution_count": 33,
      "metadata": {
        "colab": {
          "base_uri": "https://localhost:8080/",
          "height": 53
        },
        "id": "ZnFHrEWPEDLf",
        "outputId": "54fca95a-a0f7-4d19-9710-9717020501f6"
      },
      "outputs": [
        {
          "name": "stdout",
          "output_type": "stream",
          "text": [
            "1/1 [==============================] - 0s 51ms/step\n"
          ]
        },
        {
          "data": {
            "application/vnd.google.colaboratory.intrinsic+json": {
              "type": "string"
            },
            "text/plain": [
              "'R'"
            ]
          },
          "execution_count": 33,
          "metadata": {},
          "output_type": "execute_result"
        }
      ],
      "source": [
        "x = image.img_to_array(img)\n",
        "x = np.expand_dims(x, axis=0)\n",
        "prediction = np.argmax(model.predict(x))\n",
        "get_prediction(prediction)"
      ]
    },
    {
      "cell_type": "markdown",
      "metadata": {},
      "source": [
        "#### Indian Sign Language(ISL) Alphabet - 'Y'"
      ]
    },
    {
      "cell_type": "code",
      "execution_count": 34,
      "metadata": {
        "colab": {
          "base_uri": "https://localhost:8080/",
          "height": 145
        },
        "id": "F-XYb7d4EEJL",
        "outputId": "a40ca05b-883e-4f9a-fa78-c58633f45eb0"
      },
      "outputs": [
        {
          "data": {
            "image/png": "[encoded data removed]",
            "text/plain": [
              "<PIL.Image.Image image mode=L size=128x128 at 0x7F714D2E9110>"
            ]
          },
          "execution_count": 34,
          "metadata": {},
          "output_type": "execute_result"
        }
      ],
      "source": [
        "img = image.load_img('/content/Dataset/test_set/Y/1003.jpg', target_size=(128,128), color_mode='grayscale')\n",
        "img"
      ]
    },
    {
      "cell_type": "code",
      "execution_count": 35,
      "metadata": {
        "colab": {
          "base_uri": "https://localhost:8080/",
          "height": 53
        },
        "id": "8yUEbUAnED-J",
        "outputId": "e41fe080-0af6-4db1-db0d-c3d8e06bb52c"
      },
      "outputs": [
        {
          "name": "stdout",
          "output_type": "stream",
          "text": [
            "1/1 [==============================] - 0s 54ms/step\n"
          ]
        },
        {
          "data": {
            "application/vnd.google.colaboratory.intrinsic+json": {
              "type": "string"
            },
            "text/plain": [
              "'Y'"
            ]
          },
          "execution_count": 35,
          "metadata": {},
          "output_type": "execute_result"
        }
      ],
      "source": [
        "x = image.img_to_array(img)\n",
        "x = np.expand_dims(x, axis=0)\n",
        "prediction = np.argmax(model.predict(x))\n",
        "get_prediction(prediction)"
      ]
    },
    {
      "cell_type": "markdown",
      "metadata": {},
      "source": [
        "#### Indian Sign Language(ISL) Alphabet - 'A'"
      ]
    },
    {
      "cell_type": "code",
      "execution_count": 36,
      "metadata": {
        "colab": {
          "base_uri": "https://localhost:8080/",
          "height": 145
        },
        "id": "m5P1eWpEEHNL",
        "outputId": "7fa7d638-48d8-482d-f4bf-7a3fdda97749"
      },
      "outputs": [
        {
          "data": {
            "image/png": "[encoded data removed]",
            "text/plain": [
              "<PIL.Image.Image image mode=L size=128x128 at 0x7F714FB7BD10>"
            ]
          },
          "execution_count": 36,
          "metadata": {},
          "output_type": "execute_result"
        }
      ],
      "source": [
        "img = image.load_img('/content/Dataset/test_set/A/1026.jpg', target_size=(128,128), color_mode='grayscale')\n",
        "img"
      ]
    },
    {
      "cell_type": "code",
      "execution_count": 37,
      "metadata": {
        "colab": {
          "base_uri": "https://localhost:8080/",
          "height": 53
        },
        "id": "-HPyLMaJEHgr",
        "outputId": "4a05e7ff-87b0-4f3e-8397-d82bd9cf6420"
      },
      "outputs": [
        {
          "name": "stdout",
          "output_type": "stream",
          "text": [
            "1/1 [==============================] - 0s 85ms/step\n"
          ]
        },
        {
          "data": {
            "application/vnd.google.colaboratory.intrinsic+json": {
              "type": "string"
            },
            "text/plain": [
              "'A'"
            ]
          },
          "execution_count": 37,
          "metadata": {},
          "output_type": "execute_result"
        }
      ],
      "source": [
        "x = image.img_to_array(img)\n",
        "x = np.expand_dims(x, axis=0)\n",
        "prediction = np.argmax(model.predict(x))\n",
        "get_prediction(prediction)"
      ]
    },
    {
      "cell_type": "markdown",
      "metadata": {},
      "source": [
        "#### Indian Sign Language(ISL) Alphabet - 'M'"
      ]
    },
    {
      "cell_type": "code",
      "execution_count": 38,
      "metadata": {
        "colab": {
          "base_uri": "https://localhost:8080/",
          "height": 145
        },
        "id": "o1NwOoyJEIU6",
        "outputId": "58991c9c-3fb0-4816-b229-b181dd50c422"
      },
      "outputs": [
        {
          "data": {
            "image/png": "[encoded data removed]",
            "text/plain": [
              "<PIL.Image.Image image mode=L size=128x128 at 0x7F714FB4C5D0>"
            ]
          },
          "execution_count": 38,
          "metadata": {},
          "output_type": "execute_result"
        }
      ],
      "source": [
        "img = image.load_img('/content/Dataset/test_set/M/1022.jpg', target_size=(128,128), color_mode='grayscale')\n",
        "img"
      ]
    },
    {
      "cell_type": "code",
      "execution_count": 39,
      "metadata": {
        "colab": {
          "base_uri": "https://localhost:8080/",
          "height": 53
        },
        "id": "EqC1swU0EIrJ",
        "outputId": "af565f80-3747-40e8-887c-a47d5c4c584f"
      },
      "outputs": [
        {
          "name": "stdout",
          "output_type": "stream",
          "text": [
            "1/1 [==============================] - 0s 57ms/step\n"
          ]
        },
        {
          "data": {
            "application/vnd.google.colaboratory.intrinsic+json": {
              "type": "string"
            },
            "text/plain": [
              "'M'"
            ]
          },
          "execution_count": 39,
          "metadata": {},
          "output_type": "execute_result"
        }
      ],
      "source": [
        "x = image.img_to_array(img)\n",
        "x = np.expand_dims(x, axis=0)\n",
        "prediction = np.argmax(model.predict(x))\n",
        "get_prediction(prediction)"
      ]
    },
    {
      "cell_type": "code",
      "execution_count": 35,
      "metadata": {
        "id": "lPlyybADEpgc"
      },
      "outputs": [],
      "source": [
        "# Tesing our own images in the model to get real world usage"
      ]
    },
    {
      "cell_type": "markdown",
      "metadata": {},
      "source": [
        "### Testing our own images in the model to simulate real-world usage"
      ]
    },
    {
      "cell_type": "markdown",
      "metadata": {},
      "source": [
        "#### Our own test image - Indian Sign Language(ISL) Alphabet - 'C'"
      ]
    },
    {
      "cell_type": "code",
      "execution_count": 13,
      "metadata": {
        "colab": {
          "base_uri": "https://localhost:8080/",
          "height": 145
        },
        "id": "WL6PcwIxE-yy",
        "outputId": "40036dd1-b6ec-4476-87ae-e0a0d82d210b"
      },
      "outputs": [
        {
          "data": {
            "image/png": "[encoded data removed]",
            "text/plain": [
              "<PIL.Image.Image image mode=L size=128x128 at 0x7F71528C56D0>"
            ]
          },
          "execution_count": 13,
          "metadata": {},
          "output_type": "execute_result"
        }
      ],
      "source": [
        "img = image.load_img('/content/drive/MyDrive/C.jpg', target_size=(128,128), color_mode='grayscale')\n",
        "img\n"
      ]
    },
    {
      "cell_type": "code",
      "execution_count": 14,
      "metadata": {
        "colab": {
          "base_uri": "https://localhost:8080/",
          "height": 53
        },
        "id": "hjdvP0taFDtL",
        "outputId": "6dfa73c2-ad6b-477c-9a33-95d9b87073bd"
      },
      "outputs": [
        {
          "name": "stdout",
          "output_type": "stream",
          "text": [
            "1/1 [==============================] - 0s 66ms/step\n"
          ]
        },
        {
          "data": {
            "application/vnd.google.colaboratory.intrinsic+json": {
              "type": "string"
            },
            "text/plain": [
              "'C'"
            ]
          },
          "execution_count": 14,
          "metadata": {},
          "output_type": "execute_result"
        }
      ],
      "source": [
        "x = image.img_to_array(img)\n",
        "x = np.expand_dims(x, axis=0)\n",
        "prediction = np.argmax(model.predict(x))\n",
        "get_prediction(prediction)"
      ]
    }
  ],
  "metadata": {
    "colab": {
      "collapsed_sections": [],
      "provenance": []
    },
    "gpuClass": "standard",
    "kernelspec": {
      "display_name": "Python 3",
      "name": "python3"
    },
    "language_info": {
      "name": "python"
    }
  },
  "nbformat": 4,
  "nbformat_minor": 0
}
