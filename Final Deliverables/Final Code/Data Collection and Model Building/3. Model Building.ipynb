{
  "cells": [
    {
      "cell_type": "markdown",
      "metadata": {},
      "source": [
        "# Model Building"
      ]
    },
    {
      "cell_type": "markdown",
      "metadata": {},
      "source": [
        "#### Import the required model building libraries"
      ]
    },
    {
      "cell_type": "code",
      "execution_count": 13,
      "metadata": {
        "id": "Bie-lI_QtlTy"
      },
      "outputs": [],
      "source": [
        "from tensorflow.keras.models import Sequential\n",
        "from tensorflow.keras.layers import Conv2D, Flatten, Dense, MaxPooling2D"
      ]
    },
    {
      "cell_type": "markdown",
      "metadata": {},
      "source": [
        "#### Initialize the model, Add convolution layer, pooling layer, flatten layer, dense layer"
      ]
    },
    {
      "cell_type": "code",
      "execution_count": null,
      "metadata": {
        "id": "j1e79SCVuVse"
      },
      "outputs": [],
      "source": [
        "model = Sequential() # Sequential Model\n",
        "\n",
        "model.add(Conv2D(128, (3,3), activation='relu', input_shape=(128,128,1))) # Convolution Layer\n",
        "model.add(MaxPooling2D(pool_size=(2,2))) # Pooling Layer\n",
        "\n",
        "model.add(Conv2D(128, (3,3), activation='relu')) # Convolution Layer\n",
        "model.add(MaxPooling2D(pool_size=(2,2))) # Pooling Layer\n",
        "\n",
        "model.add(Flatten()) # Flatten Layer\n",
        "model.add(Dense(128, activation='relu')) # Hidden Layer\n",
        "model.add(Dense(128, activation='relu')) # Hidden Layer\n",
        "model.add(Dense(26, activation='softmax')) # Hidden Layer"
      ]
    },
    {
      "cell_type": "markdown",
      "metadata": {},
      "source": [
        "#### Compiler the model"
      ]
    },
    {
      "cell_type": "code",
      "execution_count": 124,
      "metadata": {
        "id": "BoJ8m32ZvffM"
      },
      "outputs": [],
      "source": [
        "model.compile(loss='categorical_crossentropy', optimizer='adam', metrics=['accuracy'])"
      ]
    },
    {
      "cell_type": "markdown",
      "metadata": {},
      "source": [
        "#### Fit the model"
      ]
    },
    {
      "cell_type": "code",
      "execution_count": 125,
      "metadata": {
        "colab": {
          "base_uri": "https://localhost:8080/"
        },
        "id": "UfCdkcQ1wiFT",
        "outputId": "0dbff233-cf49-4e0f-b121-dc55ccdcf26c"
      },
      "outputs": [
        {
          "name": "stderr",
          "output_type": "stream",
          "text": [
            "/usr/local/lib/python3.7/dist-packages/ipykernel_launcher.py:5: UserWarning: `Model.fit_generator` is deprecated and will be removed in a future version. Please use `Model.fit`, which supports generators.\n",
            "  \"\"\"\n"
          ]
        },
        {
          "name": "stdout",
          "output_type": "stream",
          "text": [
            "Epoch 1/3\n",
            "294/294 [==============================] - 76s 257ms/step - loss: 0.1688 - accuracy: 0.9566 - val_loss: 0.0190 - val_accuracy: 0.9927\n",
            "Epoch 2/3\n",
            "294/294 [==============================] - 75s 254ms/step - loss: 0.0059 - accuracy: 0.9984 - val_loss: 0.0012 - val_accuracy: 0.9996\n",
            "Epoch 3/3\n",
            "294/294 [==============================] - 75s 254ms/step - loss: 0.0163 - accuracy: 0.9958 - val_loss: 1.3604e-04 - val_accuracy: 1.0000\n"
          ]
        },
        {
          "data": {
            "text/plain": [
              "<keras.callbacks.History at 0x7f097e74eb50>"
            ]
          },
          "execution_count": 125,
          "metadata": {},
          "output_type": "execute_result"
        }
      ],
      "source": [
        "model.fit_generator(training_data,\n",
        "                    steps_per_epoch=len(training_data),\n",
        "                    epochs=3,\n",
        "                    validation_data=testing_data,\n",
        "                    validation_steps=len(testing_data))"
      ]
    },
    {
      "cell_type": "markdown",
      "metadata": {},
      "source": [
        "#### Save the model"
      ]
    },
    {
      "cell_type": "code",
      "execution_count": 126,
      "metadata": {
        "id": "Nv0Onh4CxTa8"
      },
      "outputs": [],
      "source": [
        "model.save('trained_model.h5')"
      ]
    }
  ],
  "metadata": {
    "accelerator": "GPU",
    "colab": {
      "collapsed_sections": [],
      "provenance": []
    },
    "gpuClass": "standard",
    "kernelspec": {
      "display_name": "Python 3.10.7 64-bit",
      "language": "python",
      "name": "python3"
    },
    "language_info": {
      "name": "python",
      "version": "3.10.7"
    },
    "vscode": {
      "interpreter": {
        "hash": "20ae3f289e27c3a0beca4bc586df4c624b9fa04bc55e12142c92a68dcd46f2d1"
      }
    }
  },
  "nbformat": 4,
  "nbformat_minor": 0
}
